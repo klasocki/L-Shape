{
 "cells": [
  {
   "cell_type": "markdown",
   "metadata": {},
   "source": [
    "Project for Differential Equations laboratories at AGH CS, 2018/2019 \n",
    "<br>\n",
    "L-Shape FEM solver"
   ]
  },
  {
   "cell_type": "code",
   "execution_count": 1,
   "metadata": {
    "ExecuteTime": {
     "end_time": "2019-01-23T12:10:41.837366Z",
     "start_time": "2019-01-23T12:10:41.829829Z"
    }
   },
   "outputs": [],
   "source": [
    "import numpy as np\n",
    "import math\n",
    "from fractions import Fraction"
   ]
  },
  {
   "cell_type": "markdown",
   "metadata": {},
   "source": [
    "Function of heat at the Neumann border of L-Shape (later multiplied by user-specified coefficient)"
   ]
  },
  {
   "cell_type": "code",
   "execution_count": 2,
   "metadata": {
    "ExecuteTime": {
     "end_time": "2019-01-23T12:10:41.853316Z",
     "start_time": "2019-01-23T12:10:41.843514Z"
    }
   },
   "outputs": [],
   "source": [
    "g = lambda coords: math.sqrt(coords[0]**2 + coords[1]**2)"
   ]
  },
  {
   "cell_type": "markdown",
   "metadata": {},
   "source": [
    "Mapping of vertex indices to coordinates for the base square (0,1) x (0,1)"
   ]
  },
  {
   "cell_type": "code",
   "execution_count": 3,
   "metadata": {
    "ExecuteTime": {
     "end_time": "2019-01-23T12:10:41.869659Z",
     "start_time": "2019-01-23T12:10:41.861585Z"
    }
   },
   "outputs": [],
   "source": [
    "vertex_coords = [(0,0), (1,0), (1,1), (0,1)]"
   ]
  },
  {
   "cell_type": "markdown",
   "metadata": {},
   "source": [
    "Mapping of global vertex coordinates to vertex index"
   ]
  },
  {
   "cell_type": "code",
   "execution_count": 4,
   "metadata": {
    "ExecuteTime": {
     "end_time": "2019-01-23T12:10:41.885706Z",
     "start_time": "2019-01-23T12:10:41.877805Z"
    }
   },
   "outputs": [],
   "source": [
    "vertex_index_mapping = {\n",
    "    (-1,1): 0, (0,1): 1, (1,1): 2, (-1,0): 3, (0,0): 4, (1,0): 5, (0,-1): 6, (1,-1): 7\n",
    "}"
   ]
  },
  {
   "cell_type": "markdown",
   "metadata": {},
   "source": [
    "Definition of local basis functions"
   ]
  },
  {
   "cell_type": "code",
   "execution_count": 5,
   "metadata": {
    "ExecuteTime": {
     "end_time": "2019-01-23T12:10:41.906460Z",
     "start_time": "2019-01-23T12:10:41.888940Z"
    }
   },
   "outputs": [],
   "source": [
    "base_fun_0 = lambda coords : (1-coords[0])*(1-coords[1])\n",
    "base_fun_1 = lambda coords : coords[0]*(1-coords[1])\n",
    "base_fun_2 = lambda coords : coords[0]*coords[1]\n",
    "base_fun_3 = lambda coords : (1-coords[0])*coords[1]"
   ]
  },
  {
   "cell_type": "markdown",
   "metadata": {},
   "source": [
    "Mapping of vertex coordinates to basis functions and their partial derivatives"
   ]
  },
  {
   "cell_type": "code",
   "execution_count": 6,
   "metadata": {
    "ExecuteTime": {
     "end_time": "2019-01-23T12:10:41.932091Z",
     "start_time": "2019-01-23T12:10:41.909223Z"
    }
   },
   "outputs": [],
   "source": [
    "base_fun = {\n",
    "        vertex_coords[0] : base_fun_0,\n",
    "        vertex_coords[1] : base_fun_1,\n",
    "        vertex_coords[2] : base_fun_2,\n",
    "        vertex_coords[3] : base_fun_3,\n",
    "}\n",
    "\n",
    "base_x_derivative = {\n",
    "        vertex_coords[0] : -1,\n",
    "        vertex_coords[1] : 1,\n",
    "        vertex_coords[2] : 1,\n",
    "        vertex_coords[3] : -1,\n",
    "}\n",
    "\n",
    "base_y_derivative = {\n",
    "        vertex_coords[0] : -1,\n",
    "        vertex_coords[1] : -1,\n",
    "        vertex_coords[2] : 1,\n",
    "        vertex_coords[3] : 1,\n",
    "}"
   ]
  },
  {
   "cell_type": "markdown",
   "metadata": {},
   "source": [
    "A class for representing 3 squares of size 1x1, to which L-Shape is partitioned. Each square can be represended as a pair of coordinates of it's lower-left vertex"
   ]
  },
  {
   "cell_type": "code",
   "execution_count": 7,
   "metadata": {
    "ExecuteTime": {
     "end_time": "2019-01-23T12:10:41.954457Z",
     "start_time": "2019-01-23T12:10:41.935930Z"
    }
   },
   "outputs": [],
   "source": [
    "class BasicParitionSquare(object):\n",
    "    def __init__(self, cords):\n",
    "        (x,y)=cords                       \n",
    "        self.x = x\n",
    "        self.y = y\n",
    "     \n",
    "    # Translate coordinates from inside the square to coordinates inside the basis square\n",
    "    def to_base_square_coords(self, cords):\n",
    "        (x,y)=cords\n",
    "        return (x - self.x, y - self.y)\n",
    "    \n",
    "    # Reverse translation\n",
    "    def from_base_square_coords(self, cords):\n",
    "        (x,y)=cords\n",
    "        return (x + self.x, y + self.y)\n",
    "    \n",
    "    def base_functions(self):\n",
    "        return {\n",
    "            self.from_base_square_coords(vertex_coords[0]): (lambda x: base_fun_0(self.to_base_square_coords(x))),\n",
    "            self.from_base_square_coords(vertex_coords[1]): (lambda x: base_fun_1(self.to_base_square_coords(x))),\n",
    "            self.from_base_square_coords(vertex_coords[2]): (lambda x: base_fun_2(self.to_base_square_coords(x))),\n",
    "            self.from_base_square_coords(vertex_coords[3]): (lambda x: base_fun_3(self.to_base_square_coords(x)))\n",
    "        }\n",
    "    \n",
    "    def x_derivatives(self):\n",
    "        return{\n",
    "            self.from_base_square_coords(coords): dx for coords,dx in base_x_derivative.items() \n",
    "        }\n",
    "    \n",
    "    def y_derivatives(self):\n",
    "        return{\n",
    "            self.from_base_square_coords(coords): dy for coords,dy in base_y_derivative.items()\n",
    "        }\n",
    "     \n",
    "    def neumann_edges(self):\n",
    "        result = []\n",
    "        vertices = list(self.base_functions().keys())\n",
    "        is_neumann = lambda coords: coords[0] == -1 or coords[0] == 1 or coords[1] == 1 or coords[1] == -1\n",
    "        is_edge = (lambda c1, c2: (c1[0]==c2[0] and (c1[1]==c2[1]+1 or c1[1]==c2[1]-1)) \n",
    "        or (c1[1]==c2[1] and (c1[0]==c2[0]+1 or c1[0]==c2[0]-1)) )\n",
    "        \n",
    "        for i,coords in enumerate(vertices):\n",
    "            for inner_coords in vertices[i+1:]:\n",
    "                if is_neumann(coords) and is_neumann(inner_coords) and is_edge(coords, inner_coords):\n",
    "                    result.append((coords, inner_coords))\n",
    "        return result\n"
   ]
  },
  {
   "cell_type": "code",
   "execution_count": 8,
   "metadata": {
    "ExecuteTime": {
     "end_time": "2019-01-23T12:10:41.977529Z",
     "start_time": "2019-01-23T12:10:41.957796Z"
    }
   },
   "outputs": [],
   "source": [
    "E1 = BasicParitionSquare((-1,0))\n",
    "E2 = BasicParitionSquare((0,0))\n",
    "E3 = BasicParitionSquare((0,-1))\n",
    "partition_squares = [E1,E2,E3]"
   ]
  },
  {
   "cell_type": "markdown",
   "metadata": {},
   "source": [
    "self-written gaussian elimination algorithm"
   ]
  },
  {
   "cell_type": "code",
   "execution_count": 9,
   "metadata": {
    "ExecuteTime": {
     "end_time": "2019-01-23T12:10:42.001597Z",
     "start_time": "2019-01-23T12:10:41.980703Z"
    }
   },
   "outputs": [],
   "source": [
    "def gaussian_elimination(A, B):\n",
    "    n = len(A)\n",
    "    for i in range(n - 1):\n",
    "        pivot = i\n",
    "        for j in range(i + 1, n):\n",
    "            if abs(A[j][i]) > abs(A[pivot][i]):\n",
    "                pivot = j\n",
    "        if pivot != i:\n",
    "            # for some reason, simply swapping rows doesn't work with this matrix. Spent 3 hours figuring this\n",
    "            for k in range(len(A)):\n",
    "                A[i][k], A[pivot][k] = A[pivot][k], A[i][k]\n",
    "            B[i], B[pivot] = B[pivot], B[i]\n",
    "        \n",
    "        for j in range(i + 1, n):\n",
    "            multiply_row_by = np.float128(A[j][i])/np.float128(A[i][i])\n",
    "            A[j][i] = 0.0\n",
    "            for k in range(i + 1, n):\n",
    "                A[j][k] -= multiply_row_by * np.float128(A[i][k])\n",
    "            B[j] -= multiply_row_by * np.float128(B[i])\n",
    "            \n",
    "    for i in range(n - 1, -1, -1):\n",
    "        for j in range(i + 1, n):\n",
    "            prev_solution_coefficient = A[i][j]\n",
    "            B[i] -= prev_solution_coefficient * B[j]\n",
    "        multiply_b_by = 1.0/np.float128(A[i][i])\n",
    "        B[i] *= multiply_b_by\n",
    "    return B\n"
   ]
  },
  {
   "cell_type": "markdown",
   "metadata": {},
   "source": [
    "Function to get coefficients for the 8 base functions, to approximate desired *u* heat flow function"
   ]
  },
  {
   "cell_type": "code",
   "execution_count": 10,
   "metadata": {
    "ExecuteTime": {
     "end_time": "2019-01-23T12:10:42.019822Z",
     "start_time": "2019-01-23T12:10:42.005116Z"
    }
   },
   "outputs": [],
   "source": [
    "def calculate_u_coefficient_vec(g_coeff):\n",
    "    B = np.zeros((8,8))\n",
    "    L = np.zeros(8)\n",
    "    for square in partition_squares:\n",
    "        for coords, base_fun in square.base_functions().items():\n",
    "            vert_num = vertex_index_mapping[coords]\n",
    "            for edge in square.neumann_edges():\n",
    "                (x1,y1), (x2,y2) = edge\n",
    "                middle_coords = (Fraction(x1+x2, 2), Fraction(y1+y2, 2))\n",
    "                # integral approximation, edge length is omitted cause is equal to 1\n",
    "                L[vert_num] += g_coeff * float(g(middle_coords)) * float(base_fun(middle_coords))\n",
    "            for inner_coords, inner_base_fun in square.base_functions().items():\n",
    "                inn_vert_num = vertex_index_mapping[inner_coords]\n",
    "                #integ. app.,  area = 1, derivarives at the centre are always 1/2 of derivatives at vertices\n",
    "                B[vert_num, inn_vert_num] += \\\n",
    "                (square.x_derivatives()[coords] * square.x_derivatives()[inner_coords]) * Fraction(1,2)\n",
    "                B[vert_num, inn_vert_num] += \\\n",
    "                (square.y_derivatives()[coords] * square.y_derivatives()[inner_coords]) * Fraction(1,2)\n",
    "    # enforcing drichlet conditions\n",
    "    for i in (3,4,6): \n",
    "        B[i,:]=0\n",
    "        B[i,i]=1\n",
    "        L[i]=0\n",
    "    return gaussian_elimination(B,L)"
   ]
  },
  {
   "cell_type": "markdown",
   "metadata": {},
   "source": [
    "Getting matrix of _u_ values in n $*$ n evenly spaced points, for a given *g* function coefficient "
   ]
  },
  {
   "cell_type": "code",
   "execution_count": 11,
   "metadata": {
    "ExecuteTime": {
     "end_time": "2019-01-23T12:10:42.042647Z",
     "start_time": "2019-01-23T12:10:42.022655Z"
    }
   },
   "outputs": [],
   "source": [
    "def get_sample_values(n, g_coeff):\n",
    "    U = calculate_u_coefficient_vec(g_coeff)\n",
    "    x_samples = np.linspace(-1,1,n)\n",
    "    y_samples = np.linspace(-1,1,n)\n",
    "    result = np.zeros((len(x_samples), len(y_samples)))\n",
    "    for i, x in enumerate(x_samples):\n",
    "        for j, y in enumerate(y_samples):\n",
    "            if (y>=0):\n",
    "                if(x>=0): square = E2\n",
    "                else: square = E1\n",
    "            elif (x>=0): square = E3\n",
    "            else: continue \n",
    "            for coords,fun in square.base_functions().items():   \n",
    "                result[i,j] += U[vertex_index_mapping[coords]] * float(fun((x,y)))\n",
    "    return result\n"
   ]
  },
  {
   "cell_type": "markdown",
   "metadata": {},
   "source": [
    "Function to print L-Shape *u* values in user-friendly form"
   ]
  },
  {
   "cell_type": "code",
   "execution_count": 12,
   "metadata": {
    "ExecuteTime": {
     "end_time": "2019-01-23T12:10:42.059982Z",
     "start_time": "2019-01-23T12:10:42.046225Z"
    }
   },
   "outputs": [],
   "source": [
    "def print_LShape(matrix):\n",
    "    result = ''\n",
    "    for i,row in enumerate(matrix):\n",
    "        row_result = ''\n",
    "        for j,elem in enumerate(row):\n",
    "            str_elem = '    ' if (i < len(matrix)/2 - 1 and j < len(matrix)/2 - 1) else f'{elem:.2f}'\n",
    "            row_result += str_elem + '\\t'\n",
    "        result = row_result + '\\n' + result\n",
    "    print('\\n' + result)"
   ]
  },
  {
   "cell_type": "code",
   "execution_count": 13,
   "metadata": {
    "ExecuteTime": {
     "end_time": "2019-01-23T12:10:56.308880Z",
     "start_time": "2019-01-23T12:10:42.063132Z"
    }
   },
   "outputs": [
    {
     "name": "stdout",
     "output_type": "stream",
     "text": [
      "Enter number of points: 4\n",
      "Enter coefficient for g function: 3\n",
      "\n",
      "3.35\t3.35\t3.35\t3.35\t\n",
      "1.12\t1.12\t1.86\t3.35\t\n",
      "0.00\t0.00\t1.12\t3.35\t\n",
      "    \t0.00\t1.12\t3.35\t\n",
      "\n"
     ]
    }
   ],
   "source": [
    "# Max number of points fitting on screen: 15\n",
    "point_samples_num=int(input('Enter number of points: '))\n",
    "g_coeff=np.float128(input('Enter coefficient for g function: '))\n",
    "print_LShape(get_sample_values(n=point_samples_num, g_coeff=g_coeff))"
   ]
  },
  {
   "cell_type": "code",
   "execution_count": null,
   "metadata": {},
   "outputs": [],
   "source": []
  }
 ],
 "metadata": {
  "kernelspec": {
   "display_name": "Python 3",
   "language": "python",
   "name": "python3"
  },
  "language_info": {
   "codemirror_mode": {
    "name": "ipython",
    "version": 3
   },
   "file_extension": ".py",
   "mimetype": "text/x-python",
   "name": "python",
   "nbconvert_exporter": "python",
   "pygments_lexer": "ipython3",
   "version": "3.7.0"
  },
  "varInspector": {
   "cols": {
    "lenName": 16,
    "lenType": 16,
    "lenVar": 40
   },
   "kernels_config": {
    "python": {
     "delete_cmd_postfix": "",
     "delete_cmd_prefix": "del ",
     "library": "var_list.py",
     "varRefreshCmd": "print(var_dic_list())"
    },
    "r": {
     "delete_cmd_postfix": ") ",
     "delete_cmd_prefix": "rm(",
     "library": "var_list.r",
     "varRefreshCmd": "cat(var_dic_list()) "
    }
   },
   "types_to_exclude": [
    "module",
    "function",
    "builtin_function_or_method",
    "instance",
    "_Feature"
   ],
   "window_display": false
  }
 },
 "nbformat": 4,
 "nbformat_minor": 2
}
